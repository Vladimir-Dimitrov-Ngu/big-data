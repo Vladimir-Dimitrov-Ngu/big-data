{
  "nbformat": 4,
  "nbformat_minor": 0,
  "metadata": {
    "colab": {
      "provenance": []
    },
    "kernelspec": {
      "name": "python3",
      "display_name": "Python 3"
    },
    "language_info": {
      "name": "python"
    }
  },
  "cells": [
    {
      "cell_type": "code",
      "execution_count": 1,
      "metadata": {
        "colab": {
          "base_uri": "https://localhost:8080/"
        },
        "id": "Ov64Z3OoyJ_F",
        "outputId": "df098cc3-4491-4434-fc08-b104df5f0496"
      },
      "outputs": [
        {
          "output_type": "stream",
          "name": "stdout",
          "text": [
            "Drive already mounted at /content/drive; to attempt to forcibly remount, call drive.mount(\"/content/drive\", force_remount=True).\n"
          ]
        }
      ],
      "source": [
        "from google.colab import drive\n",
        "drive.mount('/content/drive')"
      ]
    },
    {
      "cell_type": "markdown",
      "source": [
        "Датасето из соревнования на Kaggle - https://www.kaggle.com/c/avito-context-ad-clicks."
      ],
      "metadata": {
        "id": "g1_CQWzL6Kih"
      }
    },
    {
      "cell_type": "markdown",
      "source": [
        "В файле VisitsStream.tsv содержится информация о посещениях пользователями сайта в хронологическом порядке. Необходимо взять первые 1 000 000 записей из этой таблицы и подсчитать для них топ-10 пользователей (userId) по числу посещений. Количество этих посещений также должно быть отображено в результате. Все этапы - загрузка, преобразования и выгрузка данных - необходимо произвести с использованием Bash"
      ],
      "metadata": {
        "id": "HmobIpB-6QXV"
      }
    },
    {
      "cell_type": "code",
      "source": [
        "!p7zip -d '/content/drive/MyDrive/VisitsStream.tsv.7z'"
      ],
      "metadata": {
        "colab": {
          "base_uri": "https://localhost:8080/"
        },
        "id": "tTAbDHmqyj8j",
        "outputId": "6d53e923-3dac-48d9-c524-30d5f8ff2a8c"
      },
      "execution_count": 2,
      "outputs": [
        {
          "output_type": "stream",
          "name": "stdout",
          "text": [
            "/usr/bin/p7zip: cannot read /content/drive/MyDrive/VisitsStream.tsv.7z\n"
          ]
        }
      ]
    },
    {
      "cell_type": "code",
      "source": [
        "path = '/content/VisitsStream.tsv'"
      ],
      "metadata": {
        "id": "Sh91-EoW3R-D"
      },
      "execution_count": 16,
      "outputs": []
    },
    {
      "cell_type": "code",
      "source": [
        "! cat VisitsStream.tsv | head -n 10"
      ],
      "metadata": {
        "colab": {
          "base_uri": "https://localhost:8080/"
        },
        "id": "RkkxKDW32sJL",
        "outputId": "c724de79-825b-425c-ebc3-54ffba98773b"
      },
      "execution_count": 18,
      "outputs": [
        {
          "output_type": "stream",
          "name": "stdout",
          "text": [
            "UserID\tIPID\tAdID\tViewDate\n",
            "59703\t1259356\t469877\t2015-04-25 00:00:00.0\n",
            "154389\t1846749\t27252551\t2015-04-25 00:00:00.0\n",
            "218628\t2108380\t31685325\t2015-04-25 00:00:00.0\n",
            "231535\t837110\t18827716\t2015-04-25 00:00:00.0\n",
            "282306\t1654210\t29363673\t2015-04-25 00:00:00.0\n",
            "295068\t601505\t588324\t2015-04-25 00:00:00.0\n",
            "501897\t158476\t4103261\t2015-04-25 00:00:00.0\n",
            "655394\t631692\t9860544\t2015-04-25 00:00:00.0\n",
            "765603\t804403\t29475627\t2015-04-25 00:00:00.0\n"
          ]
        }
      ]
    },
    {
      "cell_type": "code",
      "source": [
        "! cat VisitsStream.tsv |cut -f 1,4 | head -n 10"
      ],
      "metadata": {
        "colab": {
          "base_uri": "https://localhost:8080/"
        },
        "id": "qdsEQU-73cET",
        "outputId": "350de614-40a4-45b8-8fc2-3a98948f9c97"
      },
      "execution_count": 24,
      "outputs": [
        {
          "output_type": "stream",
          "name": "stdout",
          "text": [
            "UserID\tViewDate\n",
            "59703\t2015-04-25 00:00:00.0\n",
            "154389\t2015-04-25 00:00:00.0\n",
            "218628\t2015-04-25 00:00:00.0\n",
            "231535\t2015-04-25 00:00:00.0\n",
            "282306\t2015-04-25 00:00:00.0\n",
            "295068\t2015-04-25 00:00:00.0\n",
            "501897\t2015-04-25 00:00:00.0\n",
            "655394\t2015-04-25 00:00:00.0\n",
            "765603\t2015-04-25 00:00:00.0\n"
          ]
        }
      ]
    },
    {
      "cell_type": "code",
      "source": [
        "! cat VisitsStream.tsv | cut -f 1 | tail -n +2| head -n 1000000| sort -k1,1 -n | uniq -c | sort -k1,1 -n -r| head -n 10"
      ],
      "metadata": {
        "colab": {
          "base_uri": "https://localhost:8080/"
        },
        "id": "FoVuzWof37bw",
        "outputId": "68aafa9b-bd63-4803-866e-9d7ab11bd6b9"
      },
      "execution_count": 53,
      "outputs": [
        {
          "output_type": "stream",
          "name": "stdout",
          "text": [
            "   2814 4285777\n",
            "   1657 769640\n",
            "    731 4325557\n",
            "    394 3210937\n",
            "    381 4263912\n",
            "    336 760745\n",
            "    334 3669654\n",
            "    323 350213\n",
            "    316 2356324\n",
            "    309 1192247\n"
          ]
        }
      ]
    }
  ]
}